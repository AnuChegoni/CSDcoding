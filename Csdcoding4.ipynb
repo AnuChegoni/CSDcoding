{
  "nbformat": 4,
  "nbformat_minor": 0,
  "metadata": {
    "colab": {
      "name": "Csdcoding4.ipynb",
      "provenance": [],
      "authorship_tag": "ABX9TyO19bYrWfXlTjW4CJy5URnK",
      "include_colab_link": true
    },
    "kernelspec": {
      "name": "python3",
      "display_name": "Python 3"
    },
    "language_info": {
      "name": "python"
    }
  },
  "cells": [
    {
      "cell_type": "markdown",
      "metadata": {
        "id": "view-in-github",
        "colab_type": "text"
      },
      "source": [
        "<a href=\"https://colab.research.google.com/github/AnuChegoni/CSDcoding/blob/main/Csdcoding4.ipynb\" target=\"_parent\"><img src=\"https://colab.research.google.com/assets/colab-badge.svg\" alt=\"Open In Colab\"/></a>"
      ]
    },
    {
      "cell_type": "code",
      "metadata": {
        "colab": {
          "base_uri": "https://localhost:8080/"
        },
        "id": "1UF5PSMkhLbX",
        "outputId": "4bc84b42-cdc9-42cb-f87b-d3b93e2bcab9"
      },
      "source": [
        "def fact(n):\n",
        " if n==0:\n",
        "   return 1\n",
        " else:\n",
        "   return n*fact(n-1)\n",
        "n= int(input(\"enter total :\"))\n",
        "r=int(input(\"enter allowed :\"))\n",
        "c= fact(n)/(fact(r)*fact(n-r))\n",
        "print(c)"
      ],
      "execution_count": null,
      "outputs": [
        {
          "output_type": "stream",
          "text": [
            "enter total :7\n",
            "enter allowed :4\n",
            "35.0\n"
          ],
          "name": "stdout"
        }
      ]
    },
    {
      "cell_type": "code",
      "metadata": {
        "colab": {
          "base_uri": "https://localhost:8080/"
        },
        "id": "MPbFE-SehpX_",
        "outputId": "4213c1e6-181a-485d-fb24-4f256c2f7378"
      },
      "source": [
        "def fact(n):\n",
        " if n==0:\n",
        "   return 1\n",
        " else:\n",
        "   return n*fact(n-1)\n",
        "n= int(input(\"enter total :\"))\n",
        "r=int(input(\"enter allowed :\"))\n",
        "c= fact(n)/(fact(r)*fact(n-r))\n",
        "print(c)"
      ],
      "execution_count": null,
      "outputs": [
        {
          "output_type": "stream",
          "text": [
            "enter total :4\n",
            "enter allowed :2\n",
            "6.0\n"
          ],
          "name": "stdout"
        }
      ]
    },
    {
      "cell_type": "code",
      "metadata": {
        "colab": {
          "base_uri": "https://localhost:8080/"
        },
        "id": "EOc3zcoWh4FS",
        "outputId": "7a8f7891-74ba-4e93-e74b-946ca1df5c6e"
      },
      "source": [
        "def fact(n):\n",
        " if n==0:\n",
        "   return 1\n",
        " else:\n",
        "   return n*fact(n-1)\n",
        "n= int(input(\"enter total conso :\"))\n",
        "r=int(input(\"enter allowed :\"))\n",
        "a= int(input(\"enter total vowels :\"))\n",
        "b=int(input(\"enter allowed vowels :\"))\n",
        "c= fact(n)/(fact(r)*fact(n-r))*fact(a)/(fact(b)*fact(a-b))\n",
        "print(c)"
      ],
      "execution_count": null,
      "outputs": [
        {
          "output_type": "stream",
          "text": [
            "enter total conso :7\n",
            "enter allowed :4\n",
            "enter total vowels :4\n",
            "enter allowed vowels :2\n",
            "210.0\n"
          ],
          "name": "stdout"
        }
      ]
    }
  ]
}