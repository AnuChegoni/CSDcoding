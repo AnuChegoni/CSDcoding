{
  "nbformat": 4,
  "nbformat_minor": 0,
  "metadata": {
    "colab": {
      "name": "mid2-08.ipynb",
      "provenance": []
    },
    "kernelspec": {
      "name": "python3",
      "display_name": "Python 3"
    },
    "language_info": {
      "name": "python"
    }
  },
  "cells": [
    {
      "cell_type": "code",
      "metadata": {
        "colab": {
          "base_uri": "https://localhost:8080/"
        },
        "id": "8uZpzQKGYcJE",
        "outputId": "5ba1b392-925f-483e-8819-1b203136b5b6"
      },
      "source": [
        "#1\n",
        "\n",
        "def fact(n):\n",
        "  if n==0:\n",
        "    return 1\n",
        "  else:\n",
        "    return n*fact(n-1)\n",
        "\n",
        "N = int(input(\"Total number of screws: \"))\n",
        "K = int(input(\"Number of defective screws: \"))\n",
        "D = int(input(\"Number of screws picked: \"))\n",
        "\n",
        "prob = round((fact(N-K)/(fact((N-K)-D)*fact(D)))/(fact(N)/((fact(N-D))*fact(D))),2)\n",
        "\n",
        "print(\"The probability of picking 2 perfect screws is: \", prob)"
      ],
      "execution_count": 3,
      "outputs": [
        {
          "output_type": "stream",
          "name": "stdout",
          "text": [
            "Total number of screws: 10\n",
            "Number of defective screws: 3\n",
            "Number of screws picked: 2\n",
            "The probability of picking 2 perfect screws is:  0.47\n"
          ]
        }
      ]
    },
    {
      "cell_type": "code",
      "metadata": {
        "colab": {
          "base_uri": "https://localhost:8080/"
        },
        "id": "HOsB8ZO3YyEd",
        "outputId": "c11c339b-0017-40bd-917d-d416d37f06ed"
      },
      "source": [
        "#2\n",
        "\n",
        "def fact(n):\n",
        "  if n==0:\n",
        "    return 1\n",
        "  else:\n",
        "    return n*fact(n-1)\n",
        "\n",
        "N = int(input(\"Total number of screws: \"))\n",
        "K = int(input(\"Number of defective screws: \"))\n",
        "D = int(input(\"Number of screws picked: \"))\n",
        "\n",
        "prob = round((fact(N-K)/(fact((N-K)-D)*fact(D)))/(fact(N)/((fact(N-D))*fact(D))),2)\n",
        "\n",
        "print(\"The probability of picking 2 perfect screws is: \", prob)"
      ],
      "execution_count": 2,
      "outputs": [
        {
          "output_type": "stream",
          "name": "stdout",
          "text": [
            "Total number of screws: 15\n",
            "Number of defective screws: 4\n",
            "Number of screws picked: 2\n",
            "The probability of picking 2 perfect screws is:  0.52\n"
          ]
        }
      ]
    }
  ]
}