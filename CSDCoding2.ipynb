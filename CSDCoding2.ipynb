{
  "nbformat": 4,
  "nbformat_minor": 0,
  "metadata": {
    "colab": {
      "name": "CSDCoding2.ipynb",
      "provenance": [],
      "authorship_tag": "ABX9TyPhsjohzCAPyc3r0Cz7NVuz",
      "include_colab_link": true
    },
    "kernelspec": {
      "name": "python3",
      "display_name": "Python 3"
    },
    "language_info": {
      "name": "python"
    }
  },
  "cells": [
    {
      "cell_type": "markdown",
      "metadata": {
        "id": "view-in-github",
        "colab_type": "text"
      },
      "source": [
        "<a href=\"https://colab.research.google.com/github/AnuChegoni/CSDcoding/blob/main/CSDCoding2.ipynb\" target=\"_parent\"><img src=\"https://colab.research.google.com/assets/colab-badge.svg\" alt=\"Open In Colab\"/></a>"
      ]
    },
    {
      "cell_type": "code",
      "metadata": {
        "colab": {
          "base_uri": "https://localhost:8080/"
        },
        "id": "KEA8THGKDgzI",
        "outputId": "96efce7f-f995-4028-b504-208e92e09e5e"
      },
      "source": [
        "#how many ways 3 letters words with or without meaning can be formedout of the letters of the wod SWING when repitation is not allowed\n",
        "\n",
        "import math\n",
        "\n",
        "word=len(str(input(\"Enter the Word:\")))\n",
        "\n",
        "letters=int(input(\"Enter the number of letters allowed: \"))\n",
        "\n",
        "result=math.factorial(word)/math.factorial(word-letters)\n",
        "\n",
        "print(\"The answer for this permutation is:\", result)"
      ],
      "execution_count": null,
      "outputs": [
        {
          "output_type": "stream",
          "text": [
            "Enter the Word:swing\n",
            "Enter the number of letters allowed: 3\n",
            "The answer for this permutation is: 60.0\n"
          ],
          "name": "stdout"
        }
      ]
    },
    {
      "cell_type": "code",
      "metadata": {
        "colab": {
          "base_uri": "https://localhost:8080/"
        },
        "id": "3hGNAjcUDtMi",
        "outputId": "f6e748a5-d1f5-4d12-ac06-84bd2e9a443f"
      },
      "source": [
        "#how many ways 3 letters words with or without meaning can be formed of the letters of the word SWING repitation is not allowed\n",
        "\n",
        "from itertools import permutations\n",
        "\n",
        "word = str(input(\"enter the word:\"))\n",
        "\n",
        "p= list(permutations(word,letters))\n",
        "\n",
        "print(\"the permutation for the given problem is:\",p)"
      ],
      "execution_count": null,
      "outputs": [
        {
          "output_type": "stream",
          "text": [
            "enter the word:swing\n",
            "the permutation for the given problem is: [('s', 'w', 'i'), ('s', 'w', 'n'), ('s', 'w', 'g'), ('s', 'i', 'w'), ('s', 'i', 'n'), ('s', 'i', 'g'), ('s', 'n', 'w'), ('s', 'n', 'i'), ('s', 'n', 'g'), ('s', 'g', 'w'), ('s', 'g', 'i'), ('s', 'g', 'n'), ('w', 's', 'i'), ('w', 's', 'n'), ('w', 's', 'g'), ('w', 'i', 's'), ('w', 'i', 'n'), ('w', 'i', 'g'), ('w', 'n', 's'), ('w', 'n', 'i'), ('w', 'n', 'g'), ('w', 'g', 's'), ('w', 'g', 'i'), ('w', 'g', 'n'), ('i', 's', 'w'), ('i', 's', 'n'), ('i', 's', 'g'), ('i', 'w', 's'), ('i', 'w', 'n'), ('i', 'w', 'g'), ('i', 'n', 's'), ('i', 'n', 'w'), ('i', 'n', 'g'), ('i', 'g', 's'), ('i', 'g', 'w'), ('i', 'g', 'n'), ('n', 's', 'w'), ('n', 's', 'i'), ('n', 's', 'g'), ('n', 'w', 's'), ('n', 'w', 'i'), ('n', 'w', 'g'), ('n', 'i', 's'), ('n', 'i', 'w'), ('n', 'i', 'g'), ('n', 'g', 's'), ('n', 'g', 'w'), ('n', 'g', 'i'), ('g', 's', 'w'), ('g', 's', 'i'), ('g', 's', 'n'), ('g', 'w', 's'), ('g', 'w', 'i'), ('g', 'w', 'n'), ('g', 'i', 's'), ('g', 'i', 'w'), ('g', 'i', 'n'), ('g', 'n', 's'), ('g', 'n', 'w'), ('g', 'n', 'i')]\n"
          ],
          "name": "stdout"
        }
      ]
    },
    {
      "cell_type": "code",
      "metadata": {
        "colab": {
          "base_uri": "https://localhost:8080/"
        },
        "id": "enhwHvArDy8U",
        "outputId": "8e6300bf-6b51-4add-a454-a407994b6d7f"
      },
      "source": [
        "#Find all possible permutations for the string:\" GITAM\"\n",
        "\n",
        "from itertools import permutations\n",
        "\n",
        "string=\"GITAM\"\n",
        "\n",
        "result=list(permutations(string))\n",
        "\n",
        "for i in result:\n",
        "    print(i)"
      ],
      "execution_count": null,
      "outputs": [
        {
          "output_type": "stream",
          "text": [
            "('G', 'I', 'T', 'A', 'M')\n",
            "('G', 'I', 'T', 'M', 'A')\n",
            "('G', 'I', 'A', 'T', 'M')\n",
            "('G', 'I', 'A', 'M', 'T')\n",
            "('G', 'I', 'M', 'T', 'A')\n",
            "('G', 'I', 'M', 'A', 'T')\n",
            "('G', 'T', 'I', 'A', 'M')\n",
            "('G', 'T', 'I', 'M', 'A')\n",
            "('G', 'T', 'A', 'I', 'M')\n",
            "('G', 'T', 'A', 'M', 'I')\n",
            "('G', 'T', 'M', 'I', 'A')\n",
            "('G', 'T', 'M', 'A', 'I')\n",
            "('G', 'A', 'I', 'T', 'M')\n",
            "('G', 'A', 'I', 'M', 'T')\n",
            "('G', 'A', 'T', 'I', 'M')\n",
            "('G', 'A', 'T', 'M', 'I')\n",
            "('G', 'A', 'M', 'I', 'T')\n",
            "('G', 'A', 'M', 'T', 'I')\n",
            "('G', 'M', 'I', 'T', 'A')\n",
            "('G', 'M', 'I', 'A', 'T')\n",
            "('G', 'M', 'T', 'I', 'A')\n",
            "('G', 'M', 'T', 'A', 'I')\n",
            "('G', 'M', 'A', 'I', 'T')\n",
            "('G', 'M', 'A', 'T', 'I')\n",
            "('I', 'G', 'T', 'A', 'M')\n",
            "('I', 'G', 'T', 'M', 'A')\n",
            "('I', 'G', 'A', 'T', 'M')\n",
            "('I', 'G', 'A', 'M', 'T')\n",
            "('I', 'G', 'M', 'T', 'A')\n",
            "('I', 'G', 'M', 'A', 'T')\n",
            "('I', 'T', 'G', 'A', 'M')\n",
            "('I', 'T', 'G', 'M', 'A')\n",
            "('I', 'T', 'A', 'G', 'M')\n",
            "('I', 'T', 'A', 'M', 'G')\n",
            "('I', 'T', 'M', 'G', 'A')\n",
            "('I', 'T', 'M', 'A', 'G')\n",
            "('I', 'A', 'G', 'T', 'M')\n",
            "('I', 'A', 'G', 'M', 'T')\n",
            "('I', 'A', 'T', 'G', 'M')\n",
            "('I', 'A', 'T', 'M', 'G')\n",
            "('I', 'A', 'M', 'G', 'T')\n",
            "('I', 'A', 'M', 'T', 'G')\n",
            "('I', 'M', 'G', 'T', 'A')\n",
            "('I', 'M', 'G', 'A', 'T')\n",
            "('I', 'M', 'T', 'G', 'A')\n",
            "('I', 'M', 'T', 'A', 'G')\n",
            "('I', 'M', 'A', 'G', 'T')\n",
            "('I', 'M', 'A', 'T', 'G')\n",
            "('T', 'G', 'I', 'A', 'M')\n",
            "('T', 'G', 'I', 'M', 'A')\n",
            "('T', 'G', 'A', 'I', 'M')\n",
            "('T', 'G', 'A', 'M', 'I')\n",
            "('T', 'G', 'M', 'I', 'A')\n",
            "('T', 'G', 'M', 'A', 'I')\n",
            "('T', 'I', 'G', 'A', 'M')\n",
            "('T', 'I', 'G', 'M', 'A')\n",
            "('T', 'I', 'A', 'G', 'M')\n",
            "('T', 'I', 'A', 'M', 'G')\n",
            "('T', 'I', 'M', 'G', 'A')\n",
            "('T', 'I', 'M', 'A', 'G')\n",
            "('T', 'A', 'G', 'I', 'M')\n",
            "('T', 'A', 'G', 'M', 'I')\n",
            "('T', 'A', 'I', 'G', 'M')\n",
            "('T', 'A', 'I', 'M', 'G')\n",
            "('T', 'A', 'M', 'G', 'I')\n",
            "('T', 'A', 'M', 'I', 'G')\n",
            "('T', 'M', 'G', 'I', 'A')\n",
            "('T', 'M', 'G', 'A', 'I')\n",
            "('T', 'M', 'I', 'G', 'A')\n",
            "('T', 'M', 'I', 'A', 'G')\n",
            "('T', 'M', 'A', 'G', 'I')\n",
            "('T', 'M', 'A', 'I', 'G')\n",
            "('A', 'G', 'I', 'T', 'M')\n",
            "('A', 'G', 'I', 'M', 'T')\n",
            "('A', 'G', 'T', 'I', 'M')\n",
            "('A', 'G', 'T', 'M', 'I')\n",
            "('A', 'G', 'M', 'I', 'T')\n",
            "('A', 'G', 'M', 'T', 'I')\n",
            "('A', 'I', 'G', 'T', 'M')\n",
            "('A', 'I', 'G', 'M', 'T')\n",
            "('A', 'I', 'T', 'G', 'M')\n",
            "('A', 'I', 'T', 'M', 'G')\n",
            "('A', 'I', 'M', 'G', 'T')\n",
            "('A', 'I', 'M', 'T', 'G')\n",
            "('A', 'T', 'G', 'I', 'M')\n",
            "('A', 'T', 'G', 'M', 'I')\n",
            "('A', 'T', 'I', 'G', 'M')\n",
            "('A', 'T', 'I', 'M', 'G')\n",
            "('A', 'T', 'M', 'G', 'I')\n",
            "('A', 'T', 'M', 'I', 'G')\n",
            "('A', 'M', 'G', 'I', 'T')\n",
            "('A', 'M', 'G', 'T', 'I')\n",
            "('A', 'M', 'I', 'G', 'T')\n",
            "('A', 'M', 'I', 'T', 'G')\n",
            "('A', 'M', 'T', 'G', 'I')\n",
            "('A', 'M', 'T', 'I', 'G')\n",
            "('M', 'G', 'I', 'T', 'A')\n",
            "('M', 'G', 'I', 'A', 'T')\n",
            "('M', 'G', 'T', 'I', 'A')\n",
            "('M', 'G', 'T', 'A', 'I')\n",
            "('M', 'G', 'A', 'I', 'T')\n",
            "('M', 'G', 'A', 'T', 'I')\n",
            "('M', 'I', 'G', 'T', 'A')\n",
            "('M', 'I', 'G', 'A', 'T')\n",
            "('M', 'I', 'T', 'G', 'A')\n",
            "('M', 'I', 'T', 'A', 'G')\n",
            "('M', 'I', 'A', 'G', 'T')\n",
            "('M', 'I', 'A', 'T', 'G')\n",
            "('M', 'T', 'G', 'I', 'A')\n",
            "('M', 'T', 'G', 'A', 'I')\n",
            "('M', 'T', 'I', 'G', 'A')\n",
            "('M', 'T', 'I', 'A', 'G')\n",
            "('M', 'T', 'A', 'G', 'I')\n",
            "('M', 'T', 'A', 'I', 'G')\n",
            "('M', 'A', 'G', 'I', 'T')\n",
            "('M', 'A', 'G', 'T', 'I')\n",
            "('M', 'A', 'I', 'G', 'T')\n",
            "('M', 'A', 'I', 'T', 'G')\n",
            "('M', 'A', 'T', 'G', 'I')\n",
            "('M', 'A', 'T', 'I', 'G')\n"
          ],
          "name": "stdout"
        }
      ]
    },
    {
      "cell_type": "code",
      "metadata": {
        "colab": {
          "base_uri": "https://localhost:8080/"
        },
        "id": "NdlbqbInD5EB",
        "outputId": "f686eae3-701a-4051-b63a-e6b8e05d66a7"
      },
      "source": [
        "#Find all possible permutations for the string:\" GITAM\"\n",
        "\n",
        "from itertools import permutations\n",
        "\n",
        "string=\"GITAM\"\n",
        "\n",
        "result=permutations(string,3)\n",
        "\n",
        "print(\"The answer for the permutation is:\",len(list(result)))"
      ],
      "execution_count": null,
      "outputs": [
        {
          "output_type": "stream",
          "text": [
            "The answer for the permutation is: 60\n"
          ],
          "name": "stdout"
        }
      ]
    }
  ]
}