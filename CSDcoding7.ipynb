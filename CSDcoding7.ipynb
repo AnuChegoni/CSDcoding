{
  "nbformat": 4,
  "nbformat_minor": 0,
  "metadata": {
    "colab": {
      "name": "CSDcoding7.ipynb",
      "provenance": [],
      "authorship_tag": "ABX9TyNsAXCB/GmYepCZ2b8pmxoZ",
      "include_colab_link": true
    },
    "kernelspec": {
      "name": "python3",
      "display_name": "Python 3"
    },
    "language_info": {
      "name": "python"
    }
  },
  "cells": [
    {
      "cell_type": "markdown",
      "metadata": {
        "id": "view-in-github",
        "colab_type": "text"
      },
      "source": [
        "<a href=\"https://colab.research.google.com/github/AnuChegoni/CSDcoding/blob/main/CSDcoding7.ipynb\" target=\"_parent\"><img src=\"https://colab.research.google.com/assets/colab-badge.svg\" alt=\"Open In Colab\"/></a>"
      ]
    },
    {
      "cell_type": "code",
      "metadata": {
        "colab": {
          "base_uri": "https://localhost:8080/"
        },
        "id": "pI_CW7GQqW3x",
        "outputId": "0d35f341-4f9a-4df5-b923-eba63795974f"
      },
      "source": [
        "def probability(a,b):\n",
        "  p=(a/b)\n",
        "  print(\"probability is :\",p)\n",
        "\n",
        "\n",
        "x=int(input(\"enter number of required outcomes :\"))\n",
        "y=int(input(\"enter total number of outcomes :\"))\n",
        "probability(x,y)"
      ],
      "execution_count": null,
      "outputs": [
        {
          "output_type": "stream",
          "name": "stdout",
          "text": [
            "enter number of required outcomes :2\n",
            "enter total number of outcomes :20\n",
            "probability is : 0.1\n"
          ]
        }
      ]
    },
    {
      "cell_type": "code",
      "metadata": {
        "colab": {
          "base_uri": "https://localhost:8080/"
        },
        "id": "ITTmIssfqi0C",
        "outputId": "924f0f85-7977-4e15-900c-328dc72a955c"
      },
      "source": [
        "def probability(a,b):\n",
        "  p=(a/b)\n",
        "  print(\"probability is :\",p)\n",
        "  x= 12\n",
        "  y= 21\n",
        "probability(x,y)"
      ],
      "execution_count": null,
      "outputs": [
        {
          "output_type": "stream",
          "name": "stdout",
          "text": [
            "probability is : 0.019230769230769232\n"
          ]
        }
      ]
    },
    {
      "cell_type": "code",
      "metadata": {
        "colab": {
          "base_uri": "https://localhost:8080/"
        },
        "id": "IAv3IBc_qlxu",
        "outputId": "a75326d7-edc2-4ff5-cfb8-f139eb1f6754"
      },
      "source": [
        "a={1,3,5}\n",
        "b={1,2,3}\n",
        "s={1,2,3,4,5,6}\n",
        "p=(len(a)+len(b) - len(a.intersection(b)))/len(s)\n",
        "print(\"probability is : \",p)"
      ],
      "execution_count": null,
      "outputs": [
        {
          "output_type": "stream",
          "name": "stdout",
          "text": [
            "probability is :  0.6666666666666666\n"
          ]
        }
      ]
    },
    {
      "cell_type": "code",
      "metadata": {
        "colab": {
          "base_uri": "https://localhost:8080/"
        },
        "id": "k4IWV1-fqof0",
        "outputId": "1a929c68-f62a-4d42-c1e3-00fb8994f9e6"
      },
      "source": [
        "def probability(a,b):\n",
        "  p=(a/b)\n",
        "  print(\"probability is :\",p)\n",
        "\n",
        "\n",
        "x= 1\n",
        "y= 52\n",
        "probability(x,y)"
      ],
      "execution_count": null,
      "outputs": [
        {
          "output_type": "stream",
          "name": "stdout",
          "text": [
            "probability is : 0.019230769230769232\n"
          ]
        }
      ]
    },
    {
      "cell_type": "code",
      "metadata": {
        "colab": {
          "base_uri": "https://localhost:8080/"
        },
        "id": "7Pw1jGEj5pcc",
        "outputId": "23aa1c06-62de-4439-f7b3-1f3db3e2ba6e"
      },
      "source": [
        "import math\n",
        "a = int (input(\"enter the number of right handed screws:\"))\n",
        "b = int(input(\"enter the number of left handed screws: \"))\n",
        "c = int(input (\"number of screws to be selected : \"))\n",
        "d =input(\"enter the with replacement or without replacement: \")\n",
        "T = a+ b\n",
        "if d== \"without replacement\":\n",
        "  C1 = math.factorial(b)/math.factorial(b-c)*math.factorial(c)\n",
        "  C2 = math.factorial(T)/math.factorial(T-c)*math.factorial(c)\n",
        "  C = 1-(C1 /C2)\n",
        "  prob = print(\"prob pf atlest one: \",C)\n",
        "else:\n",
        "  prob1 =(b)/T\n",
        "  prob2 =(b)/T\n",
        "  P=1-(prob1*prob2)\n",
        "  print(\"the prob with replacement is : \",P)"
      ],
      "execution_count": 2,
      "outputs": [
        {
          "output_type": "stream",
          "name": "stdout",
          "text": [
            "enter the number of right handed screws:20\n",
            "enter the number of left handed screws: 10\n",
            "number of screws to be selected : 2\n",
            "enter the with replacement or without replacement: with replacement\n",
            "the prob with replacement is :  0.8888888888888888\n"
          ]
        }
      ]
    }
  ]
}