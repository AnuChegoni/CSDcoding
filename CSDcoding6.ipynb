{
  "nbformat": 4,
  "nbformat_minor": 0,
  "metadata": {
    "colab": {
      "name": "CSDcoding6.ipynb",
      "provenance": [],
      "authorship_tag": "ABX9TyN8jWpEFNhjtCNSF/ou3WC7",
      "include_colab_link": true
    },
    "kernelspec": {
      "name": "python3",
      "display_name": "Python 3"
    },
    "language_info": {
      "name": "python"
    }
  },
  "cells": [
    {
      "cell_type": "markdown",
      "metadata": {
        "id": "view-in-github",
        "colab_type": "text"
      },
      "source": [
        "<a href=\"https://colab.research.google.com/github/AnuChegoni/CSDcoding/blob/main/CSDcoding6.ipynb\" target=\"_parent\"><img src=\"https://colab.research.google.com/assets/colab-badge.svg\" alt=\"Open In Colab\"/></a>"
      ]
    },
    {
      "cell_type": "code",
      "metadata": {
        "colab": {
          "base_uri": "https://localhost:8080/"
        },
        "id": "uIuKn429tuXR",
        "outputId": "519568ab-79d1-4c0e-a521-da38b8c1ad17"
      },
      "source": [
        "import numpy as np\n",
        "\n",
        "uni = set(np.arange(10))\n",
        "A = set(np.arange(0,9,2))\n",
        "B = set(np.arange(0,9,3))\n",
        "\n",
        "print(\"\\nUniversal Set: \",uni)\n",
        "print(\"\\nSet: \", A)\n",
        "print(\"\\nSet: \",B)\n",
        "\n",
        "A.union(B)"
      ],
      "execution_count": 1,
      "outputs": [
        {
          "output_type": "stream",
          "name": "stdout",
          "text": [
            "\n",
            "Universal Set:  {0, 1, 2, 3, 4, 5, 6, 7, 8, 9}\n",
            "\n",
            "Set:  {0, 2, 4, 6, 8}\n",
            "\n",
            "Set:  {0, 3, 6}\n"
          ]
        },
        {
          "output_type": "execute_result",
          "data": {
            "text/plain": [
              "{0, 2, 3, 4, 6, 8}"
            ]
          },
          "metadata": {},
          "execution_count": 1
        }
      ]
    },
    {
      "cell_type": "code",
      "metadata": {
        "colab": {
          "base_uri": "https://localhost:8080/"
        },
        "id": "d7HAF9a7t2-n",
        "outputId": "0f3e7ae4-317a-4811-98cf-0566969e2889"
      },
      "source": [
        "import numpy as np\n",
        "U=set(np.arange(10))\n",
        "A=set(np.arange(0,9,2))\n",
        "B=set(np.arange(0,9,3))\n",
        "P= A.union(B)\n",
        "Q=uni.difference(P)\n",
        "S=uni.difference(B)\n",
        "R=uni.difference(A)\n",
        "T=R.intersection(S)\n",
        "if Q==T :\n",
        "  print(\"True\")\n",
        "else:\n",
        "  print(\"false\")"
      ],
      "execution_count": 2,
      "outputs": [
        {
          "output_type": "stream",
          "name": "stdout",
          "text": [
            "True\n"
          ]
        }
      ]
    }
  ]
}