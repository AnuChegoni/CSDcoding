{
  "nbformat": 4,
  "nbformat_minor": 0,
  "metadata": {
    "colab": {
      "name": "EXP10(08).ipynb",
      "provenance": [],
      "authorship_tag": "ABX9TyOLNzl8UsYtQQ4dKsMmh1Le",
      "include_colab_link": true
    },
    "kernelspec": {
      "name": "python3",
      "display_name": "Python 3"
    },
    "language_info": {
      "name": "python"
    }
  },
  "cells": [
    {
      "cell_type": "markdown",
      "metadata": {
        "id": "view-in-github",
        "colab_type": "text"
      },
      "source": [
        "<a href=\"https://colab.research.google.com/github/AnuChegoni/CSDcoding/blob/main/EXP10(08).ipynb\" target=\"_parent\"><img src=\"https://colab.research.google.com/assets/colab-badge.svg\" alt=\"Open In Colab\"/></a>"
      ]
    },
    {
      "cell_type": "code",
      "metadata": {
        "colab": {
          "base_uri": "https://localhost:8080/"
        },
        "id": "RKOX7EIs_s8v",
        "outputId": "4119ad24-5862-496b-8b41-0ffe3bb62777"
      },
      "source": [
        "import csv\n",
        "csdcoding=[]\n",
        "\n",
        "with open('/content/CSDCODING.csv','r') as f:\n",
        "  for line in f:\n",
        "    token = line.split(',')\n",
        "    day = token[0]\n",
        "    price= token[1]\n",
        "    csdcoding.append([day,price])    \n",
        "print(\"\\n\", csdcoding)\n",
        "print(\"\\n\", csdcoding[1])\n",
        "\n",
        "for element in csdcoding:\n",
        "  if element[0]==\"Aug 2\":\n",
        "    print(\"\\n\", element[1])"
      ],
      "execution_count": 1,
      "outputs": [
        {
          "output_type": "stream",
          "name": "stdout",
          "text": [
            "\n",
            " [['Aug 1', '300\\n'], ['Aug 2', '320\\n'], ['Aug 3', '340\\n'], ['Aug 4', '360\\n'], ['Aug 5', '380']]\n",
            "\n",
            " ['Aug 2', '320\\n']\n",
            "\n",
            " 320\n",
            "\n"
          ]
        }
      ]
    }
  ]
}