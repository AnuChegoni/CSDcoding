{
  "nbformat": 4,
  "nbformat_minor": 0,
  "metadata": {
    "colab": {
      "name": "csdcoding1.ipynb",
      "provenance": [],
      "collapsed_sections": [],
      "authorship_tag": "ABX9TyNj3RPNeROVRy7BvtuDuyUM",
      "include_colab_link": true
    },
    "kernelspec": {
      "name": "python3",
      "display_name": "Python 3"
    },
    "language_info": {
      "name": "python"
    }
  },
  "cells": [
    {
      "cell_type": "markdown",
      "metadata": {
        "id": "view-in-github",
        "colab_type": "text"
      },
      "source": [
        "<a href=\"https://colab.research.google.com/github/AnuChegoni/CSDcoding/blob/main/csdcoding1.ipynb\" target=\"_parent\"><img src=\"https://colab.research.google.com/assets/colab-badge.svg\" alt=\"Open In Colab\"/></a>"
      ]
    },
    {
      "cell_type": "markdown",
      "metadata": {
        "id": "hV7oqxXCLGMg"
      },
      "source": [
        "print the elements of the list ['Rama',8,10.2]nusing for loop"
      ]
    },
    {
      "cell_type": "code",
      "metadata": {
        "colab": {
          "base_uri": "https://localhost:8080/"
        },
        "id": "AXAdjWlmLIOQ",
        "outputId": "b63dca92-f1b2-476b-dbe6-c6698f05cf4d"
      },
      "source": [
        "a = ['rama',8,10.2]\n",
        "for b in a:\n",
        "  print (b)"
      ],
      "execution_count": null,
      "outputs": [
        {
          "output_type": "stream",
          "text": [
            "rama\n",
            "8\n",
            "10.2\n"
          ],
          "name": "stdout"
        }
      ]
    },
    {
      "cell_type": "markdown",
      "metadata": {
        "id": "J40TxJoCNQKk"
      },
      "source": [
        "print string rama using for loop"
      ]
    },
    {
      "cell_type": "code",
      "metadata": {
        "colab": {
          "base_uri": "https://localhost:8080/"
        },
        "id": "lWXSgcxqNTc1",
        "outputId": "c1ea9e5c-898b-4acc-cf48-6f00728e7b9b"
      },
      "source": [
        "a = 'rama'\n",
        "for b in a:\n",
        "  print (b)"
      ],
      "execution_count": null,
      "outputs": [
        {
          "output_type": "stream",
          "text": [
            "r\n",
            "a\n",
            "m\n",
            "a\n"
          ],
          "name": "stdout"
        }
      ]
    },
    {
      "cell_type": "markdown",
      "metadata": {
        "id": "Clp-SyMxONVc"
      },
      "source": [
        "print the nos 1-10 using for loop"
      ]
    },
    {
      "cell_type": "code",
      "metadata": {
        "colab": {
          "base_uri": "https://localhost:8080/"
        },
        "id": "n-HgNJQwORmu",
        "outputId": "4d9e3277-121d-4912-fa9f-afffe02ca478"
      },
      "source": [
        "for a in range(1,11):\n",
        "  print(a)\n"
      ],
      "execution_count": null,
      "outputs": [
        {
          "output_type": "stream",
          "text": [
            "1\n",
            "2\n",
            "3\n",
            "4\n",
            "5\n",
            "6\n",
            "7\n",
            "8\n",
            "9\n",
            "10\n"
          ],
          "name": "stdout"
        }
      ]
    },
    {
      "cell_type": "markdown",
      "metadata": {
        "id": "8jI2M2uwPuR8"
      },
      "source": [
        "write the code to print 10-2\n"
      ]
    },
    {
      "cell_type": "code",
      "metadata": {
        "colab": {
          "base_uri": "https://localhost:8080/"
        },
        "id": "dTh9hVMEP6IH",
        "outputId": "95c0880d-bac1-48bd-96d3-602c3e73b428"
      },
      "source": [
        "for a in range(10,1,-1):\n",
        "  print (a)"
      ],
      "execution_count": null,
      "outputs": [
        {
          "output_type": "stream",
          "text": [
            "10\n",
            "9\n",
            "8\n",
            "7\n",
            "6\n",
            "5\n",
            "4\n",
            "3\n",
            "2\n"
          ],
          "name": "stdout"
        }
      ]
    },
    {
      "cell_type": "markdown",
      "metadata": {
        "id": "yJvDkjLQRbDJ"
      },
      "source": [
        "write code to print 1-20 only two space gap"
      ]
    },
    {
      "cell_type": "code",
      "metadata": {
        "colab": {
          "base_uri": "https://localhost:8080/"
        },
        "id": "Ny3lvA5sRg9G",
        "outputId": "d29841ea-ce8d-4171-aeba-446145499a77"
      },
      "source": [
        "for a in range(1,21,2):\n",
        "  print (a) "
      ],
      "execution_count": null,
      "outputs": [
        {
          "output_type": "stream",
          "text": [
            "1\n",
            "3\n",
            "5\n",
            "7\n",
            "9\n",
            "11\n",
            "13\n",
            "15\n",
            "17\n",
            "19\n"
          ],
          "name": "stdout"
        }
      ]
    },
    {
      "cell_type": "markdown",
      "metadata": {
        "id": "YzhW5PwHTb5s"
      },
      "source": [
        "print 10-50 with nos not divisble by 5"
      ]
    },
    {
      "cell_type": "code",
      "metadata": {
        "colab": {
          "base_uri": "https://localhost:8080/"
        },
        "id": "yFun8Of2TjcE",
        "outputId": "3f944f98-a434-47c5-ac0b-ff9c6fc1906d"
      },
      "source": [
        "for a in range(10,51):\n",
        "   if(a%5 != 0):\n",
        "    print(a)"
      ],
      "execution_count": null,
      "outputs": [
        {
          "output_type": "stream",
          "text": [
            "11\n",
            "12\n",
            "13\n",
            "14\n",
            "16\n",
            "17\n",
            "18\n",
            "19\n",
            "21\n",
            "22\n",
            "23\n",
            "24\n",
            "26\n",
            "27\n",
            "28\n",
            "29\n",
            "31\n",
            "32\n",
            "33\n",
            "34\n",
            "36\n",
            "37\n",
            "38\n",
            "39\n",
            "41\n",
            "42\n",
            "43\n",
            "44\n",
            "46\n",
            "47\n",
            "48\n",
            "49\n"
          ],
          "name": "stdout"
        }
      ]
    },
    {
      "cell_type": "code",
      "metadata": {
        "colab": {
          "base_uri": "https://localhost:8080/"
        },
        "id": "o58I9aPLPKWF",
        "outputId": "001e7d12-b4fe-4a5d-ecd9-c938541f4657"
      },
      "source": [
        "list=[2,12,22,32]\n",
        "\n",
        "sum = 0\n",
        "for i in list:\n",
        "  sum = sum+i\n",
        "\n",
        "  print(sum)"
      ],
      "execution_count": null,
      "outputs": [
        {
          "output_type": "stream",
          "text": [
            "2\n",
            "14\n",
            "36\n",
            "68\n"
          ],
          "name": "stdout"
        }
      ]
    },
    {
      "cell_type": "code",
      "metadata": {
        "colab": {
          "base_uri": "https://localhost:8080/"
        },
        "id": "cjNFoAX8PQ-S",
        "outputId": "943fb99e-29ff-47e7-8112-4c2570986176"
      },
      "source": [
        "for i in range(3):\n",
        "  print(\"Outer Loop\", i)\n",
        "\n",
        "  for j in range(2):\n",
        "    print(\"Inner Loop\", j)\n",
        "  print('\\n')"
      ],
      "execution_count": null,
      "outputs": [
        {
          "output_type": "stream",
          "text": [
            "Outer Loop 0\n",
            "Inner Loop 0\n",
            "Inner Loop 1\n",
            "\n",
            "\n",
            "Outer Loop 1\n",
            "Inner Loop 0\n",
            "Inner Loop 1\n",
            "\n",
            "\n",
            "Outer Loop 2\n",
            "Inner Loop 0\n",
            "Inner Loop 1\n",
            "\n",
            "\n"
          ],
          "name": "stdout"
        }
      ]
    },
    {
      "cell_type": "code",
      "metadata": {
        "colab": {
          "base_uri": "https://localhost:8080/"
        },
        "id": "5uHVHzhOPTq_",
        "outputId": "2f418556-6936-415d-f45c-4c9a894ea13b"
      },
      "source": [
        "x=3\n",
        "for i in range(1,4):\n",
        "  for j in range(1,i+1):\n",
        "    print(j,end=\"\")\n",
        "  print()"
      ],
      "execution_count": null,
      "outputs": [
        {
          "output_type": "stream",
          "text": [
            "1\n",
            "12\n",
            "123\n"
          ],
          "name": "stdout"
        }
      ]
    },
    {
      "cell_type": "code",
      "metadata": {
        "colab": {
          "base_uri": "https://localhost:8080/"
        },
        "id": "Crjq_u1UPXWy",
        "outputId": "9862a814-8078-4a3d-a042-ddd87e93df41"
      },
      "source": [
        "for a in range(0,51,2):\n",
        "  print(a)"
      ],
      "execution_count": null,
      "outputs": [
        {
          "output_type": "stream",
          "text": [
            "0\n",
            "2\n",
            "4\n",
            "6\n",
            "8\n",
            "10\n",
            "12\n",
            "14\n",
            "16\n",
            "18\n",
            "20\n",
            "22\n",
            "24\n",
            "26\n",
            "28\n",
            "30\n",
            "32\n",
            "34\n",
            "36\n",
            "38\n",
            "40\n",
            "42\n",
            "44\n",
            "46\n",
            "48\n",
            "50\n"
          ],
          "name": "stdout"
        }
      ]
    },
    {
      "cell_type": "code",
      "metadata": {
        "colab": {
          "base_uri": "https://localhost:8080/"
        },
        "id": "7RLGDL0VPaXx",
        "outputId": "95930b47-adc3-42f8-e1e0-368cfd2aabcf"
      },
      "source": [
        "even=[]\n",
        "odd=[]\n",
        "for i in range(1,51):\n",
        "  if i%2==0:\n",
        "    even.append(i)\n",
        "  else :\n",
        "    odd.append(i)\n",
        "print(even)\n",
        "print(odd)"
      ],
      "execution_count": null,
      "outputs": [
        {
          "output_type": "stream",
          "text": [
            "[2, 4, 6, 8, 10, 12, 14, 16, 18, 20, 22, 24, 26, 28, 30, 32, 34, 36, 38, 40, 42, 44, 46, 48, 50]\n",
            "[1, 3, 5, 7, 9, 11, 13, 15, 17, 19, 21, 23, 25, 27, 29, 31, 33, 35, 37, 39, 41, 43, 45, 47, 49]\n"
          ],
          "name": "stdout"
        }
      ]
    },
    {
      "cell_type": "markdown",
      "metadata": {
        "id": "K3BEtKhnQErb"
      },
      "source": [
        "find factorial of a number"
      ]
    },
    {
      "cell_type": "code",
      "metadata": {
        "colab": {
          "base_uri": "https://localhost:8080/"
        },
        "id": "oh1U1_kxPd_M",
        "outputId": "d2c45886-018a-43b8-a4f9-37b89c5e9c5d"
      },
      "source": [
        "x=int(input(\"enter a number\"))\n",
        "f=1\n",
        "for i in range(1,x+1):\n",
        "  f=f*i\n",
        "print(f)"
      ],
      "execution_count": null,
      "outputs": [
        {
          "output_type": "stream",
          "text": [
            "enter a number11\n",
            "39916800\n"
          ],
          "name": "stdout"
        }
      ]
    }
  ]
}