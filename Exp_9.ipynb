{
  "nbformat": 4,
  "nbformat_minor": 0,
  "metadata": {
    "colab": {
      "name": "Exp 9.ipynb",
      "provenance": []
    },
    "kernelspec": {
      "name": "python3",
      "display_name": "Python 3"
    },
    "language_info": {
      "name": "python"
    }
  },
  "cells": [
    {
      "cell_type": "code",
      "metadata": {
        "colab": {
          "base_uri": "https://localhost:8080/"
        },
        "id": "Q4wXN1HEUoqm",
        "outputId": "041d27d4-bf2b-4dab-b59a-e14395800365"
      },
      "source": [
        "#Function to display hashtable\n",
        "\n",
        "def display_hash(hashtable):\n",
        "  for i in range(len(hashtable)):\n",
        "    print(i,end=\" \")\n",
        "    for j in hashtable[i]:\n",
        "      print(\"-->\",end=\" \")\n",
        "      print(j,end=\" \")\n",
        "    print()\n",
        "#creating Hashtable as a nested list\n",
        "\n",
        "Hashtable=[[]for _ in range(10)]\n",
        "\n",
        "#Creating function to return key for every value\n",
        "\n",
        "def hashing(keyvalue):\n",
        "  return keyvalue %len(hashtable)\n",
        "\n",
        "#insert function to add values to the hash table\n",
        "\n",
        "def insert(hashtable,keyvalue,value):\n",
        "      hash_key=hashing(keyvalue)\n",
        "      Hashtable[hash_key].append(value)\n",
        "\n",
        "  #Driver Code\n",
        "insert(hashtable, 10,'Allahabad')\n",
        "insert(hashtable, 25,'Mumbai')\n",
        "insert(hashtable, 20,'Mathura')\n",
        "insert(hashtable, 9,'Delhi')\n",
        "insert(hashtable, 21,'Punjab')\n",
        "insert(hashtable, 21,'Noida')\n",
        "\n",
        "display_hash(Hashtable)"
      ],
      "execution_count": 15,
      "outputs": [
        {
          "output_type": "stream",
          "name": "stdout",
          "text": [
            "0 --> Allahabad --> Mathura \n",
            "1 --> Punjab --> Noida \n",
            "2 \n",
            "3 \n",
            "4 \n",
            "5 --> Mumbai \n",
            "6 \n",
            "7 \n",
            "8 \n",
            "9 --> Delhi \n"
          ]
        }
      ]
    },
    {
      "cell_type": "code",
      "metadata": {
        "colab": {
          "base_uri": "https://localhost:8080/"
        },
        "id": "pYKDb6S6fnRC",
        "outputId": "393158d0-b181-4be8-e79d-a08476692bb9"
      },
      "source": [
        "#Function to display hashtable\n",
        "\n",
        "def display_hash(hashtable):\n",
        "  for i in range(len(hashtable)):\n",
        "    print(i,end=\" \")\n",
        "    for j in hashtable[i]:\n",
        "      print(\"-->\",end=\" \")\n",
        "      print(j,end=\" \")\n",
        "    print()\n",
        "#creating Hashtable as a nested list\n",
        "\n",
        "Hashtable=[[]for _ in range(10)]\n",
        "\n",
        "#Creating function to return key for every value\n",
        "\n",
        "def hashing(keyvalue):\n",
        "  return keyvalue %len(hashtable)\n",
        "\n",
        "#insert function to add values to the hash table\n",
        "\n",
        "def insert(hashtable,keyvalue,value):\n",
        "      hash_key=hashing(keyvalue)\n",
        "      Hashtable[hash_key].append(value)\n",
        "\n",
        "  #Driver Code\n",
        "insert(hashtable, 10,'Nepal')\n",
        "insert(hashtable, 20,'India')\n",
        "insert(hashtable, 25,'USA')\n",
        "\n",
        "display_hash(Hashtable)"
      ],
      "execution_count": 16,
      "outputs": [
        {
          "output_type": "stream",
          "name": "stdout",
          "text": [
            "0 --> Nepal --> India \n",
            "1 \n",
            "2 \n",
            "3 \n",
            "4 \n",
            "5 --> USA \n",
            "6 \n",
            "7 \n",
            "8 \n",
            "9 \n"
          ]
        }
      ]
    }
  ]
}